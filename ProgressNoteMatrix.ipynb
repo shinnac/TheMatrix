{
 "cells": [
  {
   "cell_type": "code",
   "execution_count": 1,
   "metadata": {},
   "outputs": [
    {
     "data": {
      "text/plain": [
       "[[0, 0, 0, 0], [0, 0, 0, 0], [0, 0, 0, 0]]"
      ]
     },
     "execution_count": 1,
     "metadata": {},
     "output_type": "execute_result"
    }
   ],
   "source": [
    "#quize 4.1.1\n",
    "[[0 for i in range(4)]for j in range(3)]"
   ]
  },
  {
   "cell_type": "code",
   "execution_count": 2,
   "metadata": {},
   "outputs": [
    {
     "data": {
      "text/plain": [
       "{('a', '@'): 1,\n",
       " ('a', '#'): 2,\n",
       " ('a', '?'): 3,\n",
       " ('b', '@'): 10,\n",
       " ('b', '#'): 20,\n",
       " ('b', '?'): 30}"
      ]
     },
     "execution_count": 2,
     "metadata": {},
     "output_type": "execute_result"
    }
   ],
   "source": [
    "#例4.1.3\n",
    "R = ('a', 'b')\n",
    "C = ('@', '#', '?')\n",
    "V = (1, 2, 3, 10, 20, 30)\n",
    "{rc:v for rc,v in zip(((r, c) for r in R for c in C), V)}"
   ]
  },
  {
   "cell_type": "code",
   "execution_count": 16,
   "metadata": {},
   "outputs": [
    {
     "name": "stdout",
     "output_type": "stream",
     "text": [
      "({'b', 'a'}, {'@', '#', '?'}) {('b', '@'): 30, ('b', '#'): 10, ('b', '?'): 20, ('a', '@'): 3, ('a', '#'): 1, ('a', '?'): 2}\n"
     ]
    }
   ],
   "source": [
    "#Mat classの定義\n",
    "class Mat:\n",
    "    def __init__(self, labels, function):\n",
    "        self.D = labels\n",
    "        self.f = function\n",
    "R = {'a', 'b'}\n",
    "C = {'@', '#', '?'}\n",
    "V = (30, 10, 20, 3, 1, 2)\n",
    "M = Mat((R, C), {rc:v for rc,v in zip(tuple((r, c) for r in R for c in C), V)})\n",
    "print(M.D, M.f)\n"
   ]
  },
  {
   "cell_type": "code",
   "execution_count": 43,
   "metadata": {},
   "outputs": [
    {
     "name": "stdout",
     "output_type": "stream",
     "text": [
      "({0, 1, 2, 3}, {0, 1, 2, 3}) {(0, 0): 1, (1, 1): 1, (2, 2): 1, (3, 3): 1}\n"
     ]
    }
   ],
   "source": [
    "#quize4.1.7\n",
    "\n",
    "def indentity(D):\n",
    "    return Mat((D, D),{(d,d):1 for d in D})\n",
    "\n",
    "D = {0,1,2,3}\n",
    "I = indentity(D)\n",
    "print(I.D, I.f)"
   ]
  },
  {
   "cell_type": "code",
   "execution_count": 108,
   "metadata": {},
   "outputs": [
    {
     "data": {
      "text/plain": [
       "{'b': Vec({'?', '@', '#'},{'?': 30, '@': 10, '#': 20}),\n",
       " 'a': Vec({'?', '@', '#'},{'?': 3, '@': 1, '#': 2})}"
      ]
     },
     "execution_count": 108,
     "metadata": {},
     "output_type": "execute_result"
    }
   ],
   "source": [
    "#quize4.1.9 ('Matクラスの定義'で作ったインスタンスMを使う)\n",
    "from vec import Vec\n",
    "\n",
    "def mat2rowdict(M):\n",
    "    return{r:Vec(M.D[1],{c:M.f[(r,c)] for c in M.D[1]}) for r in M.D[0]}\n",
    "mat2rowdict(M)"
   ]
  },
  {
   "cell_type": "code",
   "execution_count": 110,
   "metadata": {},
   "outputs": [
    {
     "data": {
      "text/plain": [
       "{'?': Vec({'b', 'a'},{'b': 30, 'a': 3}),\n",
       " '@': Vec({'b', 'a'},{'b': 10, 'a': 1}),\n",
       " '#': Vec({'b', 'a'},{'b': 20, 'a': 2})}"
      ]
     },
     "execution_count": 110,
     "metadata": {},
     "output_type": "execute_result"
    }
   ],
   "source": [
    "#quize4.1.10 ('Matクラスの定義'で作ったインスタンスMを使う)\n",
    "def mat2coldict(M):\n",
    "    return{c:Vec(M.D[0],{r:M.f[(r,c)] for r in M.D[0]}) for c in M.D[1]}\n",
    "mat2coldict(M)"
   ]
  },
  {
   "cell_type": "code",
   "execution_count": 6,
   "metadata": {},
   "outputs": [
    {
     "data": {
      "text/plain": [
       "Vec({('a', '?'), ('b', '#'), ('a', '@'), ('b', '@'), ('a', '#'), ('b', '?')},{('a', '@'): 30, ('a', '?'): 10, ('a', '#'): 20, ('b', '@'): 3, ('b', '?'): 1, ('b', '#'): 2})"
      ]
     },
     "execution_count": 6,
     "metadata": {},
     "output_type": "execute_result"
    }
   ],
   "source": [
    "#quize4.3.1('Matクラスの定義'で作ったインスタンスMを使う)\n",
    "from vec import Vec\n",
    "\n",
    "M = Mat((R, C), {rc:v for rc,v in zip(tuple((r, c) for r in R for c in C), V)})\n",
    "def Mat2Vec(M):\n",
    "    return Vec({(r, c) for r in M.D[0] for c in M.D[1]}, M.f)\n",
    "\n",
    "Mat2Vec(M)"
   ]
  },
  {
   "cell_type": "code",
   "execution_count": 7,
   "metadata": {},
   "outputs": [
    {
     "name": "stdout",
     "output_type": "stream",
     "text": [
      "({'@', '?', '#'}, {'a', 'b'}) {('@', 'a'): 30, ('?', 'a'): 10, ('#', 'a'): 20, ('@', 'b'): 3, ('?', 'b'): 1, ('#', 'b'): 2}\n"
     ]
    }
   ],
   "source": [
    "#quize4.4.2\n",
    "def transpose(M):\n",
    "    return Mat((M.D[1],M.D[0]),{(c,r):v for (r,c), v in M.f.items()})\n",
    "\n",
    "print(transpose(M).D,transpose(M).f)   "
   ]
  },
  {
   "cell_type": "code",
   "execution_count": 1,
   "metadata": {},
   "outputs": [
    {
     "name": "stdout",
     "output_type": "stream",
     "text": [
      "\n",
      "             concrete electricity metal plastic water\n",
      "           ------------------------------------------\n",
      "   gnome  |       1.3         0.4     0     0.2   0.8\n",
      "    hoop  |         0         0.3     0     1.5   0.4\n",
      "   putty  |         0         0.5     0     0.3   0.7\n",
      " shooter  |         0         0.8  0.15     0.5   0.4\n",
      "  slinky  |         0         0.7  0.25       0   0.2\n",
      "\n",
      "\n",
      " concrete electricity metal plastic water\n",
      "-----------------------------------------\n",
      "      312         356    51     215   373\n"
     ]
    }
   ],
   "source": [
    "#例4.5.10\n",
    "\n",
    "\n",
    "from vec import Vec\n",
    "from mat import Mat\n",
    "from mat import vector_matrix_mul\n",
    "from matutil import rowdict2mat\n",
    "\n",
    "\n",
    "D = {'metal', 'concrete', 'plastic', 'water', 'electricity'}\n",
    "v_gnome = Vec(D,{'metal':0,'concrete':1.3, 'plastic':0.2, 'water':0.8, 'electricity':0.4})\n",
    "v_hoop = Vec(D,{'metal':0,'concrete':0, 'plastic':1.5, 'water':0.4, 'electricity':0.3})\n",
    "v_slinky = Vec(D,{'metal':0.25,'concrete':0, 'plastic':0, 'water':0.2, 'electricity':0.7})\n",
    "v_putty = Vec(D,{'metal':0,'concrete':0, 'plastic':0.3, 'water':0.7, 'electricity':0.5})\n",
    "v_shooter = Vec(D,{'metal':0.15,'concrete':0, 'plastic':0.5, 'water':0.4, 'electricity':0.8})\n",
    "\n",
    "rowdict = {'gnome':v_gnome,\"hoop\":v_hoop,'slinky':v_slinky,'putty':v_putty,'shooter':v_shooter}\n",
    "M = rowdict2mat(rowdict)\n",
    "\n",
    "print(M)\n",
    "\n",
    "R = {'gnome', 'hoop', 'slinky', 'putty', 'shooter'}\n",
    "u = Vec(R, {'putty':133, 'gnome':240, 'slinky':150, 'hoop':55, 'shooter':90})\n",
    "\n",
    "print(vector_matrix_mul(u,M))\n",
    "\n"
   ]
  },
  {
   "cell_type": "code",
   "execution_count": 17,
   "metadata": {},
   "outputs": [
    {
     "name": "stdout",
     "output_type": "stream",
     "text": [
      "\n",
      "            (0, 0) (0, 1) (0, 2) (1, 0) (1, 1) (1, 2) (2, 0) (2, 1) (2, 2)\n",
      "          ----------------------------------------------------------------\n",
      " (0, 0)  |     one    one      0    one      0      0      0      0      0\n",
      " (0, 1)  |     one    one    one      0    one      0      0      0      0\n",
      " (0, 2)  |       0    one    one      0      0    one      0      0      0\n",
      " (1, 0)  |     one      0      0    one    one      0    one      0      0\n",
      " (1, 1)  |       0    one      0    one    one    one      0    one      0\n",
      " (1, 2)  |       0      0    one      0    one    one      0      0    one\n",
      " (2, 0)  |       0      0      0    one      0      0    one    one      0\n",
      " (2, 1)  |       0      0      0      0    one      0    one    one    one\n",
      " (2, 2)  |       0      0      0      0      0    one      0    one    one\n",
      "\n"
     ]
    }
   ],
   "source": [
    "#例4.5.12\n",
    "from vec import Vec\n",
    "from GF2 import one\n",
    "from matutil import coldict2mat\n",
    "\n",
    "#python3.6\n",
    "def button_vectors(n):\n",
    "    D = {(i,j) for i in range(n) for j in range(n)}\n",
    "    vecdict = {(i,j): Vec(D, dict([((x,j), one) for x in range(max(i-1,0), min(i+2,n))]+[((i,y),one) for y in range(max(j-1,0), min(j+2,n))])) for (i,j) in D}\n",
    "    return vecdict\n",
    "\n",
    "\n",
    "\n",
    "'''python3.9\n",
    "def button_vectors(n):\n",
    "    D = {(i,j) for i in range(n) for j in range(n)}\n",
    "    vecdict = {(i,j): Vec(D, {(x,j): one for x in range(max(i-1,0), min(i+2,n))}|{(i,y):one for y in range(max(j-1,0), min(j+2,n))}) for (i,j) in D}\n",
    "    return vecdict\n",
    "'''\n",
    "\n",
    "print(coldict2mat(button_vectors(3)))"
   ]
  },
  {
   "cell_type": "code",
   "execution_count": 1,
   "metadata": {},
   "outputs": [
    {
     "name": "stdout",
     "output_type": "stream",
     "text": [
      "\n",
      "             concrete electricity metal plastic water\n",
      "           ------------------------------------------\n",
      "   gnome  |       1.3         0.4     0     0.2   0.8\n",
      "    hoop  |         0         0.3     0     1.5   0.4\n",
      "   putty  |         0         0.5     0     0.3   0.7\n",
      " shooter  |         0         0.8  0.15     0.5   0.4\n",
      "  slinky  |         0         0.7  0.25       0   0.2\n",
      "\n",
      "\n",
      " gnome hoop putty shooter slinky\n",
      "--------------------------------\n",
      "   240   55   133      90    150\n",
      "\n",
      " concrete electricity     metal  plastic     water\n",
      "--------------------------------------------------\n",
      " 5.68E-14    1.14E-13 -2.27E-13 1.14E-13 -1.71E-13\n",
      "1.0985992510469899e-25\n"
     ]
    }
   ],
   "source": [
    "#例4.5.15\n",
    "\n",
    "\n",
    "from vec import Vec\n",
    "from vec import dot\n",
    "from mat import Mat\n",
    "from mat import transpose\n",
    "from mat import vector_matrix_mul\n",
    "from matutil import rowdict2mat\n",
    "from solver import solve\n",
    "\n",
    "\n",
    "C = {'metal', 'concrete', 'plastic', 'water', 'electricity'}\n",
    "v_gnome = Vec(C,{'metal':0,'concrete':1.3, 'plastic':0.2, 'water':0.8, 'electricity':0.4})\n",
    "v_hoop = Vec(C,{'metal':0,'concrete':0, 'plastic':1.5, 'water':0.4, 'electricity':0.3})\n",
    "v_slinky = Vec(C,{'metal':0.25,'concrete':0, 'plastic':0, 'water':0.2, 'electricity':0.7})\n",
    "v_putty = Vec(C,{'metal':0,'concrete':0, 'plastic':0.3, 'water':0.7, 'electricity':0.5})\n",
    "v_shooter = Vec(C,{'metal':0.15,'concrete':0, 'plastic':0.5, 'water':0.4, 'electricity':0.8})\n",
    "\n",
    "rowdict = {'gnome':v_gnome,\"hoop\":v_hoop,'slinky':v_slinky,'putty':v_putty,'shooter':v_shooter}\n",
    "M = rowdict2mat(rowdict)\n",
    "\n",
    "print(M)\n",
    "\n",
    "#R = {'gnome', 'hoop', 'slinky', 'putty', 'shooter'}\n",
    "#u = Vec(R, {'putty':133, 'gnome':240, 'slinky':150, 'hoop':55, 'shooter':90})\n",
    "\n",
    "b = Vec(C, {'metal':51.0, 'concrete':312.0, 'plastic':215.4, 'water':373.1, 'electricity':356.0})\n",
    "\n",
    "solution = solve(transpose(M),b)\n",
    "print(solution)\n",
    "\n",
    "residual = b - vector_matrix_mul(solution, M)\n",
    "\n",
    "print(residual)\n",
    "print(dot(residual, residual))"
   ]
  },
  {
   "cell_type": "code",
   "execution_count": 3,
   "metadata": {},
   "outputs": [
    {
     "name": "stdout",
     "output_type": "stream",
     "text": [
      "\n",
      " (0, 0) (0, 1) (0, 2) (0, 3) (0, 4) (1, 0) (1, 1) (1, 2) (1, 3) (1, 4) (2, 0) (2, 1) (2, 2) (2, 3) (2, 4) (3, 0) (3, 1) (3, 2) (3, 3) (3, 4) (4, 0) (4, 1) (4, 2) (4, 3) (4, 4)\n",
      "-------------------------------------------------------------------------------------------------------------------------------------------------------------------------------\n",
      "      0    one    one      0    one    one      0      0      0    one    one      0    one    one      0      0      0    one      0      0    one    one      0      0      0\n",
      "\n",
      " (0, 0) (0, 1) (0, 2) (0, 3) (0, 4) (1, 0) (1, 1) (1, 2) (1, 3) (1, 4) (2, 0) (2, 1) (2, 2) (2, 3) (2, 4) (3, 0) (3, 1) (3, 2) (3, 3) (3, 4) (4, 0) (4, 1) (4, 2) (4, 3) (4, 4)\n",
      "-------------------------------------------------------------------------------------------------------------------------------------------------------------------------------\n",
      "      0      0      0      0      0      0      0      0      0      0      0      0    one      0      0      0      0      0      0      0      0      0      0      0      0\n"
     ]
    }
   ],
   "source": [
    "#例4.5.16\n",
    "\n",
    "from vec import Vec\n",
    "from GF2 import one\n",
    "from mat import Mat\n",
    "from mat import matrix_vector_mul\n",
    "from matutil import coldict2mat\n",
    "from solver import solve\n",
    "\n",
    "#python3.6\n",
    "def button_vectors(n):\n",
    "    D = {(i,j) for i in range(n) for j in range(n)}\n",
    "    vecdict = {(i,j): Vec(D, dict([((x,j), one) for x in range(max(i-1,0), min(i+2,n))]+[((i,y),one) for y in range(max(j-1,0), min(j+2,n))])) for (i,j) in D}\n",
    "    return vecdict\n",
    "\n",
    "\n",
    "'''python3.9\n",
    "def button_vectors(n):\n",
    "    D = {(i,j) for i in range(n) for j in range(n)}\n",
    "    vecdict = {(i,j): Vec(D, {(x,j): one for x in range(max(i-1,0), min(i+2,n))}|{(i,y):one for y in range(max(j-1,0), min(j+2,n))}) for (i,j) in D}\n",
    "    return vecdict\n",
    "'''\n",
    "\n",
    "B = coldict2mat(button_vectors(5))\n",
    "s = Vec(B.D[0], {(2,2): one})\n",
    "\n",
    "sol = solve(B,s)\n",
    "\n",
    "print(sol)\n",
    "print(matrix_vector_mul(B,sol))"
   ]
  },
  {
   "cell_type": "code",
   "execution_count": 1,
   "metadata": {},
   "outputs": [
    {
     "name": "stdout",
     "output_type": "stream",
     "text": [
      "\n",
      " CPU memory radio sensor\n",
      "------------------------\n",
      " 300    100   500    250\n"
     ]
    }
   ],
   "source": [
    "#例4.6.7\n",
    "\n",
    "from vec import Vec\n",
    "from mat import Mat\n",
    "from matutil import rowdict2mat\n",
    "from solver import solve\n",
    "\n",
    "\n",
    "D = {'radio', 'sensor', 'memory', 'CPU'}\n",
    "v0 = Vec(D, {'radio':0.1, 'CPU':0.3})\n",
    "v1 = Vec(D, {'sensor':0.2, 'CPU':0.4})\n",
    "v2 = Vec(D, {'memory':0.3, 'CPU':0.1})\n",
    "v3 = Vec(D, {'memory':0.5, 'CPU':0.4})\n",
    "v4 = Vec(D, {'radio':0.2, 'CPU':0.5})\n",
    "\n",
    "b = Vec({0,1,2,3,4}, {0: 140.0, 1: 170.0, 2: 60.0, 3: 170.0, 4:250.0})\n",
    "\n",
    "A = rowdict2mat([v0, v1, v2, v3, v4])\n",
    "\n",
    "rate = solve(A, b)\n",
    "print(rate)\n",
    "\n"
   ]
  },
  {
   "cell_type": "code",
   "execution_count": 2,
   "metadata": {},
   "outputs": [
    {
     "name": "stdout",
     "output_type": "stream",
     "text": [
      "3\n"
     ]
    }
   ],
   "source": [
    "#問題4.6.12\n",
    "\n",
    "from vec import Vec\n",
    "from mat import Mat\n",
    "from matutil import mat2coldict\n",
    "\n",
    "R = {'a', 'b', 'c'}\n",
    "C = {'@', '#', '?'}\n",
    "\n",
    "M =Mat((R, C),{('a','@'): 0, ('a','#'): 2, ('a', '?'): 3, ('b','@'): 10, ('b','#'): 20, ('b', '?'): 30, ('c','@'): 0, ('c','#'): 35, ('c', '?'): 0})\n",
    "\n",
    "\n",
    "l0 = [0,1,2,3]\n",
    "l1 = [x for x in l0 if x !=0]\n",
    "print(len(l1))"
   ]
  },
  {
   "cell_type": "code",
   "execution_count": 5,
   "metadata": {},
   "outputs": [
    {
     "name": "stdout",
     "output_type": "stream",
     "text": [
      "\n",
      "       a b c\n",
      "     -------\n",
      " a  |  1 0 0\n",
      " b  |  0 4 0\n",
      " c  |  0 0 2\n",
      "\n"
     ]
    }
   ],
   "source": [
    "#クイズ4.10.21\n",
    "from mat import Mat\n",
    "\n",
    "def diag(D, entries):\n",
    "    return Mat((D,D), {(i, j): entries[i] if i == j else 0 for i in D for j in D})\n",
    "\n",
    "D = {'a', 'b', 'c'}\n",
    "entries = {'a':1, 'b':4, 'c':2}\n",
    "\n",
    "M = diag(D, entries)\n",
    "print(M)"
   ]
  },
  {
   "cell_type": "code",
   "execution_count": 47,
   "metadata": {},
   "outputs": [
    {
     "name": "stdout",
     "output_type": "stream",
     "text": [
      "課題4.14.1\n",
      "\n",
      "         0   1   2   3\n",
      "     -----------------\n",
      " 0  |  one   0 one one\n",
      " 1  |  one one   0 one\n",
      " 2  |    0   0   0 one\n",
      " 3  |  one one one   0\n",
      " 4  |    0   0 one   0\n",
      " 5  |    0 one   0   0\n",
      " 6  |  one   0   0   0\n",
      "\n",
      "課題4.14.2\n",
      "\n",
      "   0 1 2   3\n",
      "------------\n",
      " one 0 0 one\n",
      "課題4.14.3\n",
      "\n",
      "         0   1   2   3\n",
      "     -----------------\n",
      " 0  |  one   0   0   0\n",
      " 1  |    0 one   0   0\n",
      " 2  |    0   0 one   0\n",
      " 3  |    0   0   0 one\n",
      "\n",
      "課題4.14.4\n",
      "\n",
      "       0 1 2 3\n",
      "     ---------\n",
      " 0  |  0 0 0 0\n",
      " 1  |  0 0 0 0\n",
      " 2  |  0 0 0 0\n",
      "\n",
      "課題4.14.5\n",
      "\n",
      "   0 1   2   3 4   5   6\n",
      "------------------------\n",
      " one 0 one one 0 one one \n",
      "   0   1   2\n",
      "------------\n",
      " one one one \n",
      " 0 1 2 3 4 5   6\n",
      "----------------\n",
      " 0 0 0 0 0 0 one \n",
      "   0 1   2   3 4   5 6\n",
      "----------------------\n",
      " one 0 one one 0 one 0 \n",
      " 0   1 2   3\n",
      "------------\n",
      " 0 one 0 one\n",
      "\n",
      "         0   1\n",
      "     ---------\n",
      " 0  |  one   0\n",
      " 1  |  one   0\n",
      " 2  |  one one\n",
      "\n",
      "\n",
      "         0   1\n",
      "     ---------\n",
      " 0  |    0 one\n",
      " 1  |    0   0\n",
      " 2  |    0   0\n",
      " 3  |    0   0\n",
      " 4  |    0   0\n",
      " 5  |    0   0\n",
      " 6  |  one   0\n",
      "\n",
      "課題4.14.8\n",
      "[one, 0, 0, 0, 0, 0, one, 0, 0, one, 0, 0, 0, 0, one, 0]\n",
      "AB\n",
      "課題4.14.9\n",
      "[one, 0, 0, 0, 0, one, one, 0, 0, one, 0, 0, 0, one, one, 0, one, one, 0, 0, 0, one, one, 0]\n",
      "\n",
      "         0   1   2   3   4   5\n",
      "     -------------------------\n",
      " 0  |  one   0   0   0 one   0\n",
      " 1  |    0 one one one one one\n",
      " 2  |    0 one   0 one   0 one\n",
      " 3  |    0   0   0   0   0   0\n",
      "\n",
      "abc\n",
      "課題4.14.12\n",
      "I'mhtryang to frem 9our mind, Ne\u000f. But i can only sìow you tèg d/or\u000e You§re the o®u that!has po walk ôhzoefh it\n",
      "課題4.14.13\n",
      "I'm trying\u0000to frue youR mind, Jeo& But I can only show you thd dor. You're <he\u0000one that Has to walk th2otgh it\n",
      "課題4.14.15\n",
      "I'm trying to free your mind, Neo. But I can only show you the door. You're }he one that has to walk through it\n",
      "課題4.14.16\n",
      "P = 0.01\n",
      "I'm trying to free your mind, Neo. But I can only show you the door. You're the one that has to walk through it\n",
      "P = 0.02\n",
      "I'm tryinb to free your mind, Neo. But I can only show you the door. You're the one that has to walk through it\n",
      "P = 0.05\n",
      "I'm trying to free your mind, NeO. But I can only show you tae door. ¹ou're the one thit has to wale through it\n",
      "P = 0.1\n",
      "I'm t{yiýg\"tf+fref y?}r mind. Neo. But I ca[ only`show you $l\u0015\u0010dgar.#Yop'òe the ?ge t(at Xas t¿ galk ykro}Gh it\n",
      "P = 0.3\n",
      "io8\u0000LwOaçó·t 4wE`+e¬~`¦aþ& \u0003k0\"pr\fJÀSán\u0000Klly²Cæ/w |b\u0006þHµ\\D\u0016û¢þkYLÇ'2n\"yØL h`9¨Pi3Â$*ZS\"\u0005§l·mÿi xeëi*Æ+Aw\n"
     ]
    }
   ],
   "source": [
    "#課題4.14.1\n",
    "\n",
    "from GF2 import one\n",
    "from mat import Mat\n",
    "from matutil import listlist2mat\n",
    "\n",
    "L = [[one,0,one,one],[one,one,0,one],[0,0,0,one],[one,one,one,0],[0,0,one,0],[0,one,0,0],[one,0,0,0]]\n",
    "G = listlist2mat(L)\n",
    "\n",
    "print('課題4.14.1')\n",
    "print(G)\n",
    "\n",
    "from mat import matrix_vector_mul\n",
    "#課題4.14.2\n",
    "from vec import Vec\n",
    "\n",
    "p = Vec({0,1,2,3},{0:one, 1:0, 2:0, 3:one})\n",
    "c = matrix_vector_mul(G, p)\n",
    "\n",
    "#課題4.14.3\n",
    "from mat import matrix_matrix_mul\n",
    "\n",
    "R = listlist2mat([[0, 0, 0, 0, 0, 0, one], [0, 0, 0, 0, 0, one, 0], [0, 0, 0, 0, one, 0,0], [0, 0, one, 0, 0 , 0 ,0]])\n",
    "\n",
    "print('課題4.14.2')\n",
    "print(matrix_vector_mul(R, c))\n",
    "\n",
    "print('課題4.14.3')\n",
    "print(matrix_matrix_mul(R, G))\n",
    "\n",
    "#課題4.14.4\n",
    "\n",
    "H = listlist2mat([[0, 0, 0, one, one, one, one], [0, one, one, 0, 0, one, one], [one, 0, one, 0, one, 0, one]])\n",
    "\n",
    "print('課題4.14.4')\n",
    "print(matrix_matrix_mul(H, G))\n",
    "\n",
    "#課題4.14.5\n",
    "def find_error(ESyndrome):\n",
    "    i = (4 if ESyndrome.f[0] == one else 0) + (2 if ESyndrome.f[1] == one else 0) + (1 if ESyndrome.f[2] == one else 0)\n",
    "    return Vec({0,1,2,3,4,5,6}, {j: one if i == j + 1 else 0 for j in range(7)})\n",
    "\n",
    "#課題4.14.6\n",
    "from vec import add\n",
    "\n",
    "ct = Vec({0,1,2,3,4,5,6},{0:one, 1:0, 2:one, 3:one, 4:0, 5:one, 6:one})\n",
    "ESyndrome = matrix_vector_mul(H, ct)\n",
    "ev = find_error(ESyndrome)\n",
    "c = add(ct, ev)\n",
    "p = matrix_vector_mul(R, c)\n",
    "\n",
    "print('課題4.14.5')\n",
    "print(ct, ESyndrome, ev, c, p)\n",
    "\n",
    "#課題4.14.7\n",
    "from mat import transpose\n",
    "from matutil import coldict2mat, mat2coldict\n",
    "\n",
    "def find_error_matrix(S):\n",
    "    return coldict2mat([find_error(ESyndrome) for ESyndrome in mat2coldict(S).values()])\n",
    "\n",
    "S = transpose(listlist2mat([[one, one, one], [0, 0, one]]))\n",
    "print(S)\n",
    "print(find_error_matrix(S))\n",
    "\n",
    "#課題4.14.8\n",
    "\n",
    "from bitutil import bits2str, str2bits\n",
    "\n",
    "L = str2bits('AB' )\n",
    "\n",
    "print('課題4.14.8')\n",
    "print(L)\n",
    "print(bits2str(L))\n",
    "\n",
    "\n",
    "#課題4.14.9\n",
    "from bitutil import bits2mat, mat2bits\n",
    "\n",
    "bits = str2bits('abc')\n",
    "P = bits2mat(bits)\n",
    "\n",
    "\n",
    "print('課題4.14.9')\n",
    "print(bits)\n",
    "print(P)\n",
    "print(bits2str(mat2bits(P)))\n",
    "\n",
    "#課題4.14.10\n",
    "\n",
    "bits = str2bits(\"I'm trying to free your mind, Neo. But I can only show you the door. You're the one that has to walk through it\")\n",
    "P = bits2mat(bits)\n",
    "\n",
    "#課題4.14.11\n",
    "from bitutil import noise\n",
    "from mat import add\n",
    "\n",
    "E = noise(P, 0.02)\n",
    "\n",
    "print('課題4.14.12')\n",
    "print(bits2str(mat2bits(add(P, E))))\n",
    "\n",
    "#課題4.14.12\n",
    "C = matrix_matrix_mul(G, P)\n",
    "\n",
    "#課題4.14.13\n",
    "E = noise(C, 0.02)\n",
    "CTILDE = add(C, E)\n",
    "\n",
    "print('課題4.14.13')\n",
    "print(bits2str(mat2bits(matrix_matrix_mul(R, CTILDE))))\n",
    "\n",
    "#課題4.14.14\n",
    "\n",
    "def correct(A):\n",
    "    return bits2str(mat2bits((matrix_matrix_mul(R, add(A, find_error_matrix(matrix_matrix_mul(H, A)))))))\n",
    "\n",
    "#課題4.14.15\n",
    "print('課題4.14.15')\n",
    "print(correct(CTILDE))\n",
    "\n",
    "#課題4.14.16\n",
    "print('課題4.14.16')\n",
    "\n",
    "for x in [0.01,0.02,0.05,0.1,0.3]:\n",
    "    E = noise(C, x)\n",
    "    CTILDE = add(C, E)\n",
    "    print('P = ' + str(x))\n",
    "    print(correct(CTILDE))\n",
    "\n",
    "\n",
    "\n"
   ]
  },
  {
   "cell_type": "code",
   "execution_count": 30,
   "metadata": {},
   "outputs": [
    {
     "name": "stdout",
     "output_type": "stream",
     "text": [
      "0.7071067811865475 0.7071067811865475\n",
      "Hit Enter once the image is displayed.... "
     ]
    }
   ],
   "source": [
    "#課題4.15.1\n",
    "from mat import Mat\n",
    "from image_mat_util import file2mat, mat2display\n",
    "\n",
    "D = {'x', 'y', 'u'}\n",
    "\n",
    "(pos, col) = file2mat('face2.png')\n",
    "#mat2display(pos, col)\n",
    "\n",
    "#課題4.15.2\n",
    "from mat import matrix_matrix_mul\n",
    "\n",
    "def indentity():\n",
    "    D = {'x', 'y', 'u'}\n",
    "    return Mat((D,D), {(i,j):1 if i == j else 0 for i in D for j in D})\n",
    "\n",
    "#mat2display(matrix_matrix_mul(indentity(), pos), col)\n",
    "\n",
    "#課題4.15.3\n",
    "def transpose(alpha,beta):\n",
    "    D = {'x', 'y', 'u'}\n",
    "    return Mat((D,D), {('x','x'):1, ('x','y'):0,('x','u'):alpha,('y','x'):0,('y','y'):1,('y','u'):beta,('u','x'):0 ,('u','y'):0,('u','u'):1})\n",
    "\n",
    "#課題4.15.4\n",
    "\n",
    "def scale(alpha, beta):\n",
    "    D = {'x', 'y', 'u'}\n",
    "    return Mat((D,D), {('x','x'):alpha, ('x','y'):0,('x','u'):0,('y','x'):0,('y','y'):beta,('y','u'):0,('u','x'):0 ,('u','y'):0,('u','u'):1}) \n",
    "\n",
    "alpha =5\n",
    "beta = 10\n",
    "#mat2display(matrix_matrix_mul(scale(alpha, beta), pos),col)\n",
    "\n",
    "#課題4.15.5\n",
    "from math import sin, cos\n",
    "\n",
    "def rotation(theta):\n",
    "    D = {'x', 'y', 'u'}\n",
    "    return Mat((D,D),\\\n",
    "        {('x','x'):cos(theta), ('x','y'):-sin(theta),('x','u'):0,('y','x'):sin(theta),('y','y'):cos(theta),('y','u'):0,('u','x'):0 ,('u','y'):0,('u','u'):1}) \n",
    "\n",
    "theta = 0.17\n",
    "#mat2display(matrix_matrix_mul(rotation(theta), pos),col)\n",
    "\n",
    "#課題4.15.6\n",
    "\n",
    "def rotation_about(theta, x,y):\n",
    "    return matrix_matrix_mul(transpose(x,y), rotation(-theta))\n",
    "\n",
    "#mat2display(matrix_matrix_mul(rotation_about(theta,0,10), pos),col)\n",
    "\n",
    "#課題4.15.7\n",
    "\n",
    "def reflect_x():\n",
    "    D = {'x', 'y', 'u'}\n",
    "    return Mat((D,D), \\\n",
    "        {('x','x'):1, ('x','y'):0,('x','u'):0,('y','x'):0,('y','y'):-1,('y','u'):0,('u','x'):0 ,('u','y'):0,('u','u'):1})\n",
    "#mat2display(matrix_matrix_mul(transpose(100,0), matrix_matrix_mul(reflect_x(), pos)),col)\n",
    "\n",
    "#課題4.15.8\n",
    "\n",
    "def reflect_y():\n",
    "    D = {'x', 'y', 'u'}\n",
    "    return Mat((D,D), \\\n",
    "        {('x','x'):-1, ('x','y'):0,('x','u'):0,('y','x'):0,('y','y'):1,('y','u'):0,('u','x'):0 ,('u','y'):0,('u','u'):1}) \n",
    "\n",
    "         \n",
    "\n",
    "#mat2display(matrix_matrix_mul(transpose(0,200), matrix_matrix_mul(reflect_y(), pos)),col)\n",
    "\n",
    "#課題4.15.9\n",
    "\n",
    "def scale_color(alpha, beta, gamma):\n",
    "    D = {'r', 'g', 'b'}\n",
    "    return Mat((D, D), \\\n",
    "        {('r','r'):alpha, ('r','g'):0, ('r','b'):0,('g','r'):0, ('g','g'):beta, ('g','b'):0, ('b','r'):0,('b','g'):0, ('b','b'):gamma})\n",
    "\n",
    "#mat2display(pos,matrix_matrix_mul(scale_color(0.7,1,0.5),col))\n",
    "\n",
    "#課題4.15.10\n",
    "\n",
    "def grayscale():\n",
    "    D = {'r', 'g', 'b'}\n",
    "    return Mat((D, D), \\\n",
    "        {('r','r'):0.300781, ('r','g'):0.592156, ('r','b'):0.1094,('g','r'):0.300781, ('g','g'):0.592156, ('g','b'):0.1094, ('b','r'):0.300781,('b','g'):0.592156, ('b','b'):0.1094})\n",
    "\n",
    "#mat2display(pos,matrix_matrix_mul(grayscale(),col))\n",
    "\n",
    "#課題4.15.11\n",
    "\n",
    "def reflect_about(x1,y1,x2,y2):\n",
    "     sin_theta = (y2 - y1) / ((x2 - x1)**2 + (y2 - y1)**2)**0.5\n",
    "     cos_theta = (x2 - x1) / ((x2 - x1)**2 + (y2 - y1)**2)**0.5\n",
    "     D = {'x', 'y', 'u'}\n",
    "     rotation_m_theta = Mat((D,D),\\\n",
    "         {('x','x'):cos_theta, ('x','y'):sin_theta, ('x','u'):0,('y','x'):-sin_theta, ('y','y'):cos_theta, ('y','u'):0,('u','x'):0 ,('u','y'):0,('u','u'):1}) \n",
    "     rotaion_theta = Mat((D,D),\\\n",
    "         {('x','x'):cos_theta, ('x','y'):-sin_theta, ('x','u'):0,('y','x'):sin_theta, ('y','y'):cos_theta, ('y','u'):0,('u','x'):0 ,('u','y'):0,('u','u'):1})\n",
    "     return matrix_matrix_mul(transpose(x1,y1), matrix_matrix_mul(rotaion_theta, matrix_matrix_mul(reflect_x(), matrix_matrix_mul(rotation_m_theta, transpose(-x1, -y1)))))\n",
    "\n",
    "x1,y1,x2,y2 = 0, 0,150, 50\n",
    "\n",
    "#mat2display(matrix_matrix_mul(reflect_about(x1,y1,x2,y2), pos), col)\n"
   ]
  },
  {
   "cell_type": "code",
   "execution_count": 2,
   "metadata": {},
   "outputs": [
    {
     "name": "stdout",
     "output_type": "stream",
     "text": [
      "\n",
      "       2 4\n",
      "     -----\n",
      " 1  |  8 0\n",
      " 3  |  0 6\n",
      " 5  |  0 4\n",
      "\n",
      "\n",
      "        2  4\n",
      "     -------\n",
      " 1  |  -4  0\n",
      " 3  |   0 -3\n",
      " 5  |   0 -2\n",
      "\n",
      "\n",
      "        2 4\n",
      "     ------\n",
      " 1  |  12 0\n",
      " 3  |   0 9\n",
      " 5  |   0 6\n",
      "\n",
      "True\n",
      "\n",
      "       1 3 5\n",
      "     -------\n",
      " 2  |  4 0 0\n",
      " 4  |  0 3 2\n",
      "\n",
      "\n",
      " 2  4\n",
      "-----\n",
      " 4 12\n",
      "\n",
      " 2  4\n",
      "-----\n",
      " 4 12\n",
      "14\n"
     ]
    }
   ],
   "source": [
    "#問題4.17.11 Matクラスの実装\n",
    "from mat import Mat\n",
    "from vec import Vec\n",
    "\n",
    "M1 = Mat(({1,3,5}, {2,4}), {(1,2):4, (5,4):2, (3,4):3})\n",
    "M2 = Mat(({1,3,5}, {2,4}), {(1,2):4, (5,4):2, (3,4):3})\n",
    "V1 = Vec({1,3,5},{1:1, 3:2, 5:3})\n",
    "\n",
    "print(M1 + M2)\n",
    "print(-M1)\n",
    "print(3 * M1)\n",
    "print(M1 == M2)\n",
    "print(M1.transpose())\n",
    "print(V1 * M1)\n",
    "print(M1.transpose() * V1)\n",
    "print(V1*V1)\n"
   ]
  },
  {
   "cell_type": "code",
   "execution_count": 3,
   "metadata": {},
   "outputs": [
    {
     "name": "stdout",
     "output_type": "stream",
     "text": [
      "\n",
      " 0 1 2\n",
      "------\n",
      " 1 5 6\n",
      "\n",
      "   0  1\n",
      "-------\n",
      " -40 80\n"
     ]
    }
   ],
   "source": [
    "#問題4.17.12\n",
    "#M*Vを線形結合に基づく定義で計算する\n",
    "\n",
    "from vec import Vec\n",
    "from mat import Mat\n",
    "from matutil import mat2coldict\n",
    "\n",
    "R1,C1 = {0,1,2},{0,1,2}\n",
    "R2,C2 = {0,1,2,3},{0,1}\n",
    "\n",
    "M1 = Mat((R1,C1),\\\n",
    "    {(0,0):-1,(0,1):1,(0,2):2,(1,0):1,(1,1):2,(1,2):3,(2,0):2,(2,1):2,(2,2):1})\n",
    "V1 = Vec(C1,{0:1,1:2,2:0})\n",
    "\n",
    "M2 = Mat((R2,C2),\\\n",
    "    {(0,0):-5,(0,1):10,(1,0):-4,(1,1):8,(2,0):-3,(2,1):6,(3,0):-2,(3,1):4})\n",
    "V2 = Vec(R2,{0:4,1:3,2:2,3:1})\n",
    "\n",
    "def lin_comb_mat_vec_mult(M,V):\n",
    "    assert M.D[1] == V.D\n",
    "    coldict = mat2coldict(M)\n",
    "    return sum(V.f[c] * coldict[c] for c in V.D)\n",
    "\n",
    "print(lin_comb_mat_vec_mult(M1,V1))\n",
    "print(lin_comb_mat_vec_mult(M2.transpose(),V2))"
   ]
  },
  {
   "cell_type": "code",
   "execution_count": 6,
   "metadata": {},
   "outputs": [
    {
     "name": "stdout",
     "output_type": "stream",
     "text": [
      "\n",
      " 0 1 2\n",
      "------\n",
      " 1 5 6\n",
      "\n",
      "   0  1\n",
      "-------\n",
      " -40 80\n"
     ]
    }
   ],
   "source": [
    "#問題4.17.13\n",
    "#V*Mを線型結合に基づく定義で計算する\n",
    "\n",
    "from vec import Vec\n",
    "from mat import Mat\n",
    "from matutil import mat2rowdict\n",
    "\n",
    "R1,C1 = {0,1,2},{0,1,2}\n",
    "R2,C2 = {0,1,2,3},{0,1}\n",
    "\n",
    "M1 = Mat((R1,C1),\\\n",
    "    {(0,0):-1,(0,1):1,(0,2):2,(1,0):1,(1,1):2,(1,2):3,(2,0):2,(2,1):2,(2,2):1})\n",
    "V1 = Vec(C1,{0:1,1:2,2:0})\n",
    "\n",
    "M2 = Mat((R2,C2),\\\n",
    "    {(0,0):-5,(0,1):10,(1,0):-4,(1,1):8,(2,0):-3,(2,1):6,(3,0):-2,(3,1):4})\n",
    "V2 = Vec(R2,{0:4,1:3,2:2,3:1})\n",
    "\n",
    "def lin_comb_vec_mat_mult(V,M):\n",
    "    assert V.D == M.D[0]\n",
    "    rowdict = mat2rowdict(M)\n",
    "    return sum(V.f[r] * rowdict[r] for r in V.D)\n",
    "\n",
    "print(lin_comb_vec_mat_mult(V1,M1.transpose()))\n",
    "print(lin_comb_vec_mat_mult(V2,M2))"
   ]
  },
  {
   "cell_type": "code",
   "execution_count": 7,
   "metadata": {},
   "outputs": [
    {
     "name": "stdout",
     "output_type": "stream",
     "text": [
      "\n",
      " 0 1 2\n",
      "------\n",
      " 1 5 6\n",
      "\n",
      "   0  1\n",
      "-------\n",
      " -40 80\n"
     ]
    }
   ],
   "source": [
    "#問題4.17.14\n",
    "#M*Vをドット積に基づく定義で計算する\n",
    "\n",
    "from vec import Vec\n",
    "from mat import Mat\n",
    "from vec import dot\n",
    "from matutil import mat2rowdict\n",
    "\n",
    "R1,C1 = {0,1,2},{0,1,2}\n",
    "R2,C2 = {0,1,2,3},{0,1}\n",
    "\n",
    "M1 = Mat((R1,C1),\\\n",
    "    {(0,0):-1,(0,1):1,(0,2):2,(1,0):1,(1,1):2,(1,2):3,(2,0):2,(2,1):2,(2,2):1})\n",
    "V1 = Vec(C1,{0:1,1:2,2:0})\n",
    "\n",
    "M2 = Mat((R2,C2),\\\n",
    "    {(0,0):-5,(0,1):10,(1,0):-4,(1,1):8,(2,0):-3,(2,1):6,(3,0):-2,(3,1):4})\n",
    "V2 = Vec(R2,{0:4,1:3,2:2,3:1})\n",
    "\n",
    "def dot_product_mat_vec_mult(M,V):\n",
    "    assert M.D[1] == V.D\n",
    "    rowdict = mat2rowdict(M)\n",
    "    return Vec(M.D[0], {r : dot(V, rowdict[r]) for r in M.D[0]} )\n",
    "\n",
    "print(dot_product_mat_vec_mult(M1,V1))\n",
    "print(dot_product_mat_vec_mult(M2.transpose(),V2))"
   ]
  },
  {
   "cell_type": "code",
   "execution_count": 9,
   "metadata": {},
   "outputs": [
    {
     "name": "stdout",
     "output_type": "stream",
     "text": [
      "\n",
      " 0 1 2\n",
      "------\n",
      " 1 5 6\n",
      "\n",
      "   0  1\n",
      "-------\n",
      " -40 80\n"
     ]
    }
   ],
   "source": [
    "#問題4.17.15\n",
    "#V*Mをドット積に基づく定義で計算する\n",
    "\n",
    "from vec import Vec\n",
    "from mat import Mat\n",
    "from vec import dot\n",
    "from matutil import mat2coldict\n",
    "\n",
    "R1,C1 = {0,1,2},{0,1,2}\n",
    "R2,C2 = {0,1,2,3},{0,1}\n",
    "\n",
    "M1 = Mat((R1,C1),\\\n",
    "    {(0,0):-1,(0,1):1,(0,2):2,(1,0):1,(1,1):2,(1,2):3,(2,0):2,(2,1):2,(2,2):1})\n",
    "V1 = Vec(C1,{0:1,1:2,2:0})\n",
    "\n",
    "M2 = Mat((R2,C2),\\\n",
    "    {(0,0):-5,(0,1):10,(1,0):-4,(1,1):8,(2,0):-3,(2,1):6,(3,0):-2,(3,1):4})\n",
    "V2 = Vec(R2,{0:4,1:3,2:2,3:1})\n",
    "\n",
    "def dot_product_vec_mat_mult(V,M):\n",
    "    assert V.D == M.D[0]\n",
    "    coldict = mat2coldict(M)\n",
    "    return Vec(M.D[1], {c : dot(V, coldict[c]) for c in M.D[1]} )\n",
    "\n",
    "print(dot_product_vec_mat_mult(V1, M1.transpose()))\n",
    "print(dot_product_vec_mat_mult(V2, M2))"
   ]
  },
  {
   "cell_type": "code",
   "execution_count": 8,
   "metadata": {},
   "outputs": [
    {
     "name": "stdout",
     "output_type": "stream",
     "text": [
      "\n",
      "       0  1  2\n",
      "     ---------\n",
      " 0  |  6  5  3\n",
      " 1  |  7 11 11\n",
      " 2  |  2  8 11\n",
      "\n",
      "\n",
      "       0  1  2\n",
      "     ---------\n",
      " 0  |  6  5  3\n",
      " 1  |  7 11 11\n",
      " 2  |  2  8 11\n",
      "\n"
     ]
    }
   ],
   "source": [
    "#問題4.17.16\n",
    "#行列とベクトルの積の定義を使ってA*Bを計算するプロシージャ\n",
    "\n",
    "from vec import Vec\n",
    "from mat import Mat\n",
    "from matutil import mat2rowdict\n",
    "from matutil import mat2coldict\n",
    "\n",
    "from mat import matrix_matrix_mul\n",
    "\n",
    "def Mv_mat_mat_mult(A,B):\n",
    "    assert A.D[1] == B.D[0]\n",
    "    rowdict = mat2rowdict(A)\n",
    "    coldict = mat2coldict(B)\n",
    "    R, T, C= A.D[0], A.D[1], B.D[1]\n",
    "\n",
    "    return Mat((R,C), {(r,c): sum([rowdict[r].f[t] * coldict[c].f[t] for t in T]) for r in R for c in C})\n",
    "\n",
    "R1,C1 = {0,1,2},{0,1,2}\n",
    "R2,C2 = {0,1,2,3},{0,1}\n",
    "\n",
    "M1 = Mat((R1,C1),\\\n",
    "    {(0,0):-1,(0,1):1,(0,2):2,(1,0):1,(1,1):2,(1,2):3,(2,0):2,(2,1):2,(2,2):1})\n",
    "V1 = Vec(C1,{0:1,1:2,2:0})\n",
    "\n",
    "M2 = Mat((R2,C2),\\\n",
    "    {(0,0):-5,(0,1):10,(1,0):-4,(1,1):8,(2,0):-3,(2,1):6,(3,0):-2,(3,1):4})\n",
    "V2 = Vec(R2,{0:4,1:3,2:2,3:1})\n",
    "\n",
    "print(Mv_mat_mat_mult(M1,M1))\n",
    "print(matrix_matrix_mul(M1,M1))\n",
    "\n",
    "\n",
    "    \n",
    "\n"
   ]
  },
  {
   "cell_type": "code",
   "execution_count": 10,
   "metadata": {},
   "outputs": [
    {
     "name": "stdout",
     "output_type": "stream",
     "text": [
      "\n",
      "       0  1  2\n",
      "     ---------\n",
      " 0  |  6  5  3\n",
      " 1  |  7 11 11\n",
      " 2  |  2  8 11\n",
      "\n"
     ]
    }
   ],
   "source": [
    "#問題4.17.17\n",
    "#ベクトルと行列の積の定義を使ってA*Bを計算するプロシージャ\n",
    "\n",
    "from vec import Vec\n",
    "from mat import Mat\n",
    "from matutil import mat2rowdict\n",
    "from matutil import mat2coldict\n",
    "\n",
    "def vM_mat_mat_mult(A,B):\n",
    "    assert A.D[1] == B.D[0]\n",
    "    R, T, C = A.D[0], A.D[1], B.D[1]\n",
    "    rowdict = mat2rowdict(A)\n",
    "    coldict = mat2coldict(B)\n",
    "    R, T, C= A.D[0], A.D[1], B.D[1]\n",
    "\n",
    "    return Mat((R,C), {(r,c): sum([rowdict[r].f[t] * coldict[c].f[t] for t in T]) for c in C for r in R})\n",
    "\n",
    "\n",
    "R1,C1 = {0,1,2},{0,1,2}\n",
    "\n",
    "M1 = Mat((R1,C1),\\\n",
    "    {(0,0):-1,(0,1):1,(0,2):2,(1,0):1,(1,1):2,(1,2):3,(2,0):2,(2,1):2,(2,2):1})\n",
    "\n",
    "print(vM_mat_mat_mult(M1,M1))"
   ]
  },
  {
   "cell_type": "code",
   "execution_count": 6,
   "metadata": {},
   "outputs": [
    {
     "name": "stdout",
     "output_type": "stream",
     "text": [
      "{0, 1, 2, 3, 4, 5, 6, 7, 8, 9, 10, 11, 12, 13, 14, 15, 16, 17, 18, 19, 20, 21, 22, 23, 24, 25, 26, 27, 28, 29, 30, 31, 32, 33, 34, 35, 36, 37, 38, 39, 40, 41, 42, 43, 44, 45, 46, 47, 48, 49, 50, 51, 52, 53, 54, 55, 56, 57, 58, 59, 60, 61, 62, 63, 64, 65, 66, 67, 68, 69, 70, 71, 72, 73, 74, 75, 76, 77, 78, 79, 80, 81, 82, 83, 84, 85, 86, 87, 88, 89, 90, 91, 92, 93, 94, 95, 96, 97, 98, 99, 100, 101, 102, 103, 104, 105, 106, 107, 108, 109, 110, 111, 112, 113, 114, 115, 116, 117, 118, 119, 120, 121, 122, 123, 124, 125, 126, 127, 128, 129, 130, 131, 132, 133, 134, 135, 136, 137, 138, 139, 140, 141, 142, 143, 144, 145, 146, 147, 148, 149, 150, 151, 152, 153, 154, 155, 156, 157, 158, 159, 160, 161, 162, 163, 164, 165, 166, 167, 168, 169, 170, 171, 172, 173, 174, 175, 176, 177, 178, 179, 180, 181, 182, 183, 184, 185, 186, 187, 188, 189, 190, 191, 192, 193, 194, 195, 196, 197, 198, 199, 200, 201, 202, 203, 204}\n"
     ]
    }
   ],
   "source": [
    "#問題4.17.18\n",
    "#行列の積によるドット積\n",
    "\n",
    "f = open('UN_voting_data.txt')\n",
    "UN_voting_data = f.readlines()\n",
    "f.close\n",
    "\n",
    "countries = {k[0] for k in UN_voting_data}\n",
    "vote = {x for x in range(len(UN_voting_data)-1)}\n"
   ]
  }
 ],
 "metadata": {
  "kernelspec": {
   "display_name": "Python 3.6.13 ('env_py36')",
   "language": "python",
   "name": "python3"
  },
  "language_info": {
   "codemirror_mode": {
    "name": "ipython",
    "version": 3
   },
   "file_extension": ".py",
   "mimetype": "text/x-python",
   "name": "python",
   "nbconvert_exporter": "python",
   "pygments_lexer": "ipython3",
   "version": "3.6.13"
  },
  "orig_nbformat": 4,
  "vscode": {
   "interpreter": {
    "hash": "8b3a940d1976387c46547d4fbb5c46bf6988d13fad577206c7fb10b3fe13e6b3"
   }
  }
 },
 "nbformat": 4,
 "nbformat_minor": 2
}
